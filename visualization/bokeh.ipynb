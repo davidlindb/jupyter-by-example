{
 "cells": [
  {
   "cell_type": "markdown",
   "metadata": {
    "application/vnd.databricks.v1+cell": {
     "cellMetadata": {},
     "inputWidgets": {},
     "nuid": "b56c464f-6b60-4110-95b4-ed9878c179f4",
     "showTitle": false,
     "title": ""
    }
   },
   "source": [
    "# Data Visualization with Bokeh\n",
    "\n",
    "[Bokeh](https://bokeh.pydata.org/) is an interactive visualization library that targets modern web browsers for presentation. Its goal is to provide elegant, concise construction of versatile graphics, and to extend this capability with high-performance interactivity over very large or streaming datasets. Bokeh can help anyone who would like to quickly and easily create interactive plots, dashboards, and data applications.\n",
    "\n",
    "See [Jupyter Notebooks](https://bokeh.pydata.org/en/latest/docs/user_guide/quickstart.html#jupyter-notebooks) in the user guide regarding details of using Bokeh within Jupyter. Also consider the [bokeh-notebooks](https://github.com/bokeh/bokeh-notebooks) project, offering examples and a tutorial to get you started."
   ]
  },
  {
   "cell_type": "markdown",
   "metadata": {
    "application/vnd.databricks.v1+cell": {
     "cellMetadata": {},
     "inputWidgets": {},
     "nuid": "0dd169ed-4e38-4feb-96f5-762bedaa0eca",
     "showTitle": false,
     "title": ""
    }
   },
   "source": [
    "## Bokeh Global Configuration\n",
    "\n",
    "If your kernel runs on a system without internet access, you need to disable the CDN integration which is active by default.\n",
    "\n",
    "Also, for the classic notebook, Bokeh needs to be bootstrapped by calling `output_notebook` once, similar to Seaborn."
   ]
  },
  {
   "cell_type": "code",
   "execution_count": 0,
   "metadata": {
    "application/vnd.databricks.v1+cell": {
     "cellMetadata": {},
     "inputWidgets": {},
     "nuid": "93610a4b-6dbb-43ee-9683-fae7ae6d64f9",
     "showTitle": false,
     "title": ""
    }
   },
   "outputs": [],
   "source": [
    "# Use inline resources (no use of the CDN)\n",
    "##%env BOKEH_RESOURCES=inline\n",
    "\n",
    "# Try to locate PhantomJS install\n",
    "try:\n",
    "    import phantomjs_bin\n",
    "    %env BOKEH_PHANTOMJS_PATH={phantomjs_bin.executable_path}\n",
    "    del phantomjs_bin\n",
    "except ImportError:\n",
    "    pass\n",
    "\n",
    "# Register chart rendering\n",
    "from bokeh.io import output_notebook\n",
    "output_notebook()"
   ]
  },
  {
   "cell_type": "markdown",
   "metadata": {
    "application/vnd.databricks.v1+cell": {
     "cellMetadata": {},
     "inputWidgets": {},
     "nuid": "0e2d41d7-06c9-4ea8-a879-5b4e87a8270f",
     "showTitle": false,
     "title": ""
    }
   },
   "source": [
    "Like in the *Altair* notebook, we define a function that helps producing PNG chart images. You need to install PhantomJS for this (e.g. `pip install phantomjs-binary`), and point the `BOKEH_PHANTOMJS_PATH` environment variable to the `phantomjs` executable file. We did just that in the initialization code above."
   ]
  },
  {
   "cell_type": "code",
   "execution_count": 0,
   "metadata": {
    "application/vnd.databricks.v1+cell": {
     "cellMetadata": {},
     "inputWidgets": {},
     "nuid": "2a5f3b3d-aa29-42ca-847d-263808dc3160",
     "showTitle": false,
     "title": ""
    }
   },
   "outputs": [],
   "source": [
    "def render_chart(chart, name, scale_factor=1.0, ext='png', publish=1):\n",
    "    \"\"\"Helper for chart output via non-embedded PNG images.\"\"\"\n",
    "    import time\n",
    "    from IPython.display import HTML\n",
    "    from bokeh.io import export_png\n",
    "    from bokeh.plotting import show\n",
    "\n",
    "    chart_img = \"img/{}.{}\".format(name, ext)\n",
    "    if publish:\n",
    "        export_png(chart, filename=chart_img)\n",
    "        return HTML('<img src=\"{}?{}\"></img>'\n",
    "                    .format(chart_img, time.time()))\n",
    "    else:  # return interactive chart object when not publishing\n",
    "        return show(chart)"
   ]
  },
  {
   "cell_type": "markdown",
   "metadata": {
    "application/vnd.databricks.v1+cell": {
     "cellMetadata": {},
     "inputWidgets": {},
     "nuid": "e26131f6-476d-4ba1-bd2d-6b9f1c37ea11",
     "showTitle": false,
     "title": ""
    }
   },
   "source": [
    "## A Sample Plot"
   ]
  },
  {
   "cell_type": "code",
   "execution_count": 0,
   "metadata": {
    "application/vnd.databricks.v1+cell": {
     "cellMetadata": {},
     "inputWidgets": {},
     "nuid": "4430b7e0-9e5e-48e2-8279-52535432c3db",
     "showTitle": false,
     "title": ""
    }
   },
   "outputs": [],
   "source": [
    "from bokeh.plotting import figure, show, output_file\n",
    "from bokeh.sampledata.iris import flowers\n",
    "\n",
    "colormap = {'setosa': 'red', 'versicolor': 'green', 'virginica': 'blue'}\n",
    "colors = [colormap[x] for x in flowers['species']]\n",
    "\n",
    "p = figure(title=\"Iris Morphology\", width=720, height=240, tools='')\n",
    "p.xaxis.axis_label = 'Petal Length'\n",
    "p.yaxis.axis_label = 'Petal Width'\n",
    "p.circle(flowers[\"petal_length\"], flowers[\"petal_width\"],\n",
    "         color=colors, fill_alpha=0.2, size=10)\n",
    "\n",
    "\n",
    "#output_file(\"iris.html\", title=\"Iris Morphology\")\n",
    "#show(p)\n",
    "render_chart(p, \"bokeh_iris\")"
   ]
  }
 ],
 "metadata": {
  "application/vnd.databricks.v1+notebook": {
   "dashboards": [],
   "language": "python",
   "notebookMetadata": {},
   "notebookName": "bokeh",
   "notebookOrigID": 3102685337479743,
   "widgets": {}
  },
  "kernelspec": {
   "display_name": "Python 3",
   "language": "python",
   "name": "python3"
  },
  "language_info": {
   "codemirror_mode": {
    "name": "ipython",
    "version": 3
   },
   "file_extension": ".py",
   "mimetype": "text/x-python",
   "name": "python",
   "nbconvert_exporter": "python",
   "pygments_lexer": "ipython3",
   "version": "3.6.7"
  }
 },
 "nbformat": 4,
 "nbformat_minor": 0
}
