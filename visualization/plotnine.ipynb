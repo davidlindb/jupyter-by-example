{
 "cells": [
  {
   "cell_type": "markdown",
   "metadata": {
    "application/vnd.databricks.v1+cell": {
     "cellMetadata": {},
     "inputWidgets": {},
     "nuid": "f0391f5c-29d8-45c6-b2f9-07cff3ab9290",
     "showTitle": false,
     "title": ""
    }
   },
   "source": [
    "# Data Visualization with plotnine\n",
    "\n",
    "The [plotnine](https://github.com/has2k1/plotnine) project provides a grammar of graphics for Python that is modelled after R's `ggplot2`. \n",
    "\n",
    "The grammar allows users to compose plots by explicitly mapping data to the visual objects that make up the plot. Plotting with a grammar is powerful, it makes custom (and otherwise complex) plots easy to think about and then create, while the simple plots remain simple.\n",
    "\n",
    "Note that [yhat/ggpy](https://github.com/yhat/ggpy), the other port of `ggplot2`, is dead (last change in 2016). But there is a [working, maintained fork](https://github.com/sushinoya/ggpy)."
   ]
  },
  {
   "cell_type": "code",
   "execution_count": 0,
   "metadata": {
    "application/vnd.databricks.v1+cell": {
     "cellMetadata": {},
     "inputWidgets": {},
     "nuid": "7891958d-0c4f-4b72-a3ca-848abccbcdfc",
     "showTitle": false,
     "title": ""
    }
   },
   "outputs": [],
   "source": [
    "import time\n",
    "import warnings\n",
    "\n",
    "from IPython.display import HTML\n",
    "from plotnine import *\n",
    "from plotnine import data\n",
    "\n",
    "%matplotlib inline\n",
    "\n",
    "p = (ggplot(aes(x='displ', y='cty'), data.mpg)\n",
    "     + geom_point(aes(color='factor(cyl)'))\n",
    "    )\n",
    "\n",
    "chart_img = 'img/plot9-scatter.png'\n",
    "with warnings.catch_warnings():\n",
    "    warnings.simplefilter(\"ignore\", category=UserWarning)\n",
    "    p.save(filename=chart_img, height=5, width=5, units='in', dpi=96)\n",
    "HTML('<img src=\"{}?{}\"></img>'.format(chart_img, time.time()))"
   ]
  }
 ],
 "metadata": {
  "application/vnd.databricks.v1+notebook": {
   "dashboards": [],
   "language": "python",
   "notebookMetadata": {},
   "notebookName": "plotnine",
   "notebookOrigID": 3102685337479739,
   "widgets": {}
  },
  "kernelspec": {
   "display_name": "Python 3",
   "language": "python",
   "name": "python3"
  },
  "language_info": {
   "codemirror_mode": {
    "name": "ipython",
    "version": 3
   },
   "file_extension": ".py",
   "mimetype": "text/x-python",
   "name": "python",
   "nbconvert_exporter": "python",
   "pygments_lexer": "ipython3",
   "version": "3.6.7"
  }
 },
 "nbformat": 4,
 "nbformat_minor": 0
}
