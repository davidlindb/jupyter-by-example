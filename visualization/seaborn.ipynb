{
 "cells": [
  {
   "cell_type": "markdown",
   "metadata": {
    "application/vnd.databricks.v1+cell": {
     "cellMetadata": {},
     "inputWidgets": {},
     "nuid": "45ee582d-37ba-49c1-89b3-e15f5cbb80e1",
     "showTitle": false,
     "title": ""
    }
   },
   "source": [
    "# Data Visualization with Seaborn\n",
    "\n",
    "[Seaborn](https://seaborn.pydata.org/) is a Python data visualization library based on *matplotlib*. It provides a high-level interface for drawing attractive and informative statistical graphics."
   ]
  },
  {
   "cell_type": "markdown",
   "metadata": {
    "application/vnd.databricks.v1+cell": {
     "cellMetadata": {},
     "inputWidgets": {},
     "nuid": "0328fb27-5781-46a0-852c-cfe5478d3a09",
     "showTitle": false,
     "title": ""
    }
   },
   "source": [
    "## XKCD-style Sample Plot\n",
    "\n",
    "The following is an example from the Seaborn gallery, but using matplotlib's XKCD style. Note that your need the “Humor-Sans” font available, on *Debian* or *Ubuntu* that means to install the `fonts-humor-sans` package."
   ]
  },
  {
   "cell_type": "code",
   "execution_count": 0,
   "metadata": {
    "application/vnd.databricks.v1+cell": {
     "cellMetadata": {},
     "inputWidgets": {},
     "nuid": "04219367-16ec-4101-b728-7eae28b5d0a6",
     "showTitle": false,
     "title": ""
    },
    "scrolled": false
   },
   "outputs": [],
   "source": [
    "%matplotlib notebook\n",
    "\n",
    "import time\n",
    "from IPython.display import HTML, clear_output\n",
    "import matplotlib.pyplot as plt\n",
    "import seaborn as sns\n",
    "\n",
    "plt.xkcd()\n",
    "\n",
    "# Load the example dataset for Anscombe's quartet\n",
    "df = sns.load_dataset(\"anscombe\")\n",
    "\n",
    "# Show the results of a linear regression within each dataset\n",
    "plot = sns.lmplot(x=\"x\", y=\"y\", col=\"dataset\", hue=\"dataset\", data=df,\n",
    "                  col_wrap=2, ci=None, palette=\"muted\", height=4,\n",
    "                  scatter_kws={\"s\": 50, \"alpha\": 1})\n",
    "\n",
    "chart_img = 'img/seaborn-xkcd.png'\n",
    "plot.savefig(chart_img)\n",
    "clear_output()\n",
    "HTML('<img src=\"{}?{}\"></img>'.format(chart_img, time.time()))\n"
   ]
  }
 ],
 "metadata": {
  "application/vnd.databricks.v1+notebook": {
   "dashboards": [],
   "language": "python",
   "notebookMetadata": {},
   "notebookName": "seaborn",
   "notebookOrigID": 3102685337479745,
   "widgets": {}
  },
  "kernelspec": {
   "display_name": "Python 3",
   "language": "python",
   "name": "python3"
  },
  "language_info": {
   "codemirror_mode": {
    "name": "ipython",
    "version": 3
   },
   "file_extension": ".py",
   "mimetype": "text/x-python",
   "name": "python",
   "nbconvert_exporter": "python",
   "pygments_lexer": "ipython3",
   "version": "3.6.7"
  }
 },
 "nbformat": 4,
 "nbformat_minor": 0
}
