{
 "cells": [
  {
   "cell_type": "markdown",
   "metadata": {
    "application/vnd.databricks.v1+cell": {
     "cellMetadata": {},
     "inputWidgets": {},
     "nuid": "8e556f10-9e2a-4f6a-9a98-307aab3e20db",
     "showTitle": false,
     "title": ""
    }
   },
   "source": [
    "# Word Clouds\n",
    "<img src=\"img/wordcloud-logo.png\" style=\"float: right; width: 240px; padding-left: 1em;\"></img>\n",
    "\n",
    "Word clouds are images composed of words used in a particular text or context, where the size of each word indicates its frequency or importance.\n",
    "\n",
    "## Installing libraries & tools\n",
    "\n",
    "You'll need these Python packages installed: `numpy`, `pandas`, `matplotlib`, `pillow`, and `wordcloud`.\n",
    "\n",
    "In case you get a `The _imagingft C module is not installed` error when trying to build your wordcloud, try to install Pillow from source:\n",
    "\n",
    "    sudo apt install libfreetype6-dev\n",
    "    python3 -m pip install -I --no-binary :all: pillow"
   ]
  },
  {
   "cell_type": "markdown",
   "metadata": {
    "application/vnd.databricks.v1+cell": {
     "cellMetadata": {},
     "inputWidgets": {},
     "nuid": "6eb2e7f1-300a-4f17-8e20-0f64fadff97b",
     "showTitle": false,
     "title": ""
    }
   },
   "source": [
    "## Setting the stage\n",
    "\n",
    "> *The notebook, data, and images can be found [here](https://github.com/jhermann/jupyter-by-example/tree/master/charts).*\n",
    "\n",
    "First, import all the needed libraries:"
   ]
  },
  {
   "cell_type": "code",
   "execution_count": 0,
   "metadata": {
    "application/vnd.databricks.v1+cell": {
     "cellMetadata": {},
     "inputWidgets": {},
     "nuid": "f37597e6-2034-4ff6-8a29-6d0a1e27ab4d",
     "showTitle": false,
     "title": ""
    }
   },
   "outputs": [],
   "source": [
    "import os\n",
    "import time\n",
    "import random\n",
    "import collections\n",
    "import numpy as np\n",
    "import pandas as pd\n",
    "import matplotlib.pyplot as plt\n",
    "from IPython.display import HTML, clear_output\n",
    "from PIL import Image\n",
    "from wordcloud import WordCloud, STOPWORDS, ImageColorGenerator\n",
    "\n",
    "%matplotlib notebook"
   ]
  },
  {
   "cell_type": "markdown",
   "metadata": {
    "application/vnd.databricks.v1+cell": {
     "cellMetadata": {},
     "inputWidgets": {},
     "nuid": "0d4d90ba-0a9f-42bd-b8b7-a4ec254ce4d6",
     "showTitle": false,
     "title": ""
    }
   },
   "source": [
    "## Loading a word list or text\n",
    "\n",
    "The words are in a text file, one word (or short phrase) per line."
   ]
  },
  {
   "cell_type": "code",
   "execution_count": 0,
   "metadata": {
    "application/vnd.databricks.v1+cell": {
     "cellMetadata": {},
     "inputWidgets": {},
     "nuid": "4eb66bfb-2da5-4b6d-9d5c-754c39e65a9a",
     "showTitle": false,
     "title": ""
    },
    "scrolled": true
   },
   "outputs": [],
   "source": [
    "with open('../data/wordcloud.txt') as handle:\n",
    "    words = [x.strip() for x in handle]\n",
    "collections.Counter(words).most_common()"
   ]
  },
  {
   "cell_type": "markdown",
   "metadata": {
    "application/vnd.databricks.v1+cell": {
     "cellMetadata": {},
     "inputWidgets": {},
     "nuid": "9993c9fa-f084-4437-a90d-493da557b377",
     "showTitle": false,
     "title": ""
    }
   },
   "source": [
    "### Rendering the word cloud\n",
    "\n",
    "This code then creates the word cloud image from the word list."
   ]
  },
  {
   "cell_type": "code",
   "execution_count": 0,
   "metadata": {
    "application/vnd.databricks.v1+cell": {
     "cellMetadata": {},
     "inputWidgets": {},
     "nuid": "cf992ac7-45ba-4592-9372-2dae986bf838",
     "showTitle": false,
     "title": ""
    },
    "scrolled": true
   },
   "outputs": [],
   "source": [
    "random.shuffle(words)\n",
    "wordcloud = WordCloud(\n",
    "    width=720, height=320, margin=5,\n",
    "    prefer_horizontal=0.6,\n",
    "    mask=np.array(Image.open('img/panda-mask.png')),\n",
    "    contour_width=3, contour_color='black',\n",
    "    background_color='white',\n",
    ").generate('\\n'.join(words))\n",
    "\n",
    "chart_img = 'img/wordcloud.png'\n",
    "plt.axis(\"off\")\n",
    "wordcloud.to_file(chart_img)\n",
    "clear_output()\n",
    "HTML('<img src=\"{}?{}\"></img>'.format(chart_img, time.time()))"
   ]
  },
  {
   "cell_type": "markdown",
   "metadata": {
    "application/vnd.databricks.v1+cell": {
     "cellMetadata": {},
     "inputWidgets": {},
     "nuid": "e8db86a9-07f9-40a6-aefd-d9a8bb6139ff",
     "showTitle": false,
     "title": ""
    }
   },
   "source": [
    "The above code uses this image mask to give the word ‘cloud’ a specific shape.\n",
    "\n",
    "<img src=\"img/panda-mask.png\"></img>\n",
    "\n",
    "As you can see, black marks the region for inserting words, while white is background. You can also use colored images, see the [Generating WordClouds in Python](https://www.datacamp.com/community/tutorials/wordcloud-python) article for details."
   ]
  },
  {
   "cell_type": "code",
   "execution_count": 0,
   "metadata": {
    "application/vnd.databricks.v1+cell": {
     "cellMetadata": {},
     "inputWidgets": {},
     "nuid": "7adbd8ac-4680-4cd6-8adf-bd0e1f390594",
     "showTitle": false,
     "title": ""
    }
   },
   "outputs": [],
   "source": [
    "# execute this cell for docs\n",
    "?WordCloud"
   ]
  },
  {
   "cell_type": "code",
   "execution_count": 0,
   "metadata": {
    "application/vnd.databricks.v1+cell": {
     "cellMetadata": {},
     "inputWidgets": {},
     "nuid": "2ab41595-94a8-4773-8730-7884b7135044",
     "showTitle": false,
     "title": ""
    },
    "scrolled": false
   },
   "outputs": [],
   "source": [
    "#plt.imshow(wordcloud, interpolation='bilinear')\n",
    "#plt.show()"
   ]
  }
 ],
 "metadata": {
  "application/vnd.databricks.v1+notebook": {
   "dashboards": [],
   "language": "python",
   "notebookMetadata": {},
   "notebookName": "wordcloud",
   "notebookOrigID": 3102685337479866,
   "widgets": {}
  },
  "kernelspec": {
   "display_name": "Python 3",
   "language": "python",
   "name": "python3"
  },
  "language_info": {
   "codemirror_mode": {
    "name": "ipython",
    "version": 3
   },
   "file_extension": ".py",
   "mimetype": "text/x-python",
   "name": "python",
   "nbconvert_exporter": "python",
   "pygments_lexer": "ipython3",
   "version": "3.6.8"
  }
 },
 "nbformat": 4,
 "nbformat_minor": 0
}
