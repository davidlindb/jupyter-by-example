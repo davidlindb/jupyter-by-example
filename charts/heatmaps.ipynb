{
 "cells": [
  {
   "cell_type": "markdown",
   "metadata": {
    "application/vnd.databricks.v1+cell": {
     "cellMetadata": {},
     "inputWidgets": {},
     "nuid": "004708f0-307d-487f-9a39-abada3694dac",
     "showTitle": false,
     "title": ""
    }
   },
   "source": [
    "# Heatmaps\n",
    "<img src=\"img/heatmap-logo.png\" style=\"float: right; padding-left: 1em;\"></img>\n",
    "\n",
    "A heatmap is a graphical representation of data where the individual values contained in a matrix are represented as colors. Be sure to normalise your data, and choose a relevant colour palette.\n",
    "\n",
    "Heatmaps are good for showing variance across multiple variables, revealing any patterns, displaying whether any variables are similar to each other, and for detecting if any correlations exist in-between them.\n",
    "\n",
    "See [10 Heatmaps 10 Python Libraries](https://blog.algorexhealth.com/2017/09/10-heatmaps-10-python-libraries/) for a complete tour through many frameworks."
   ]
  },
  {
   "cell_type": "code",
   "execution_count": 0,
   "metadata": {
    "application/vnd.databricks.v1+cell": {
     "cellMetadata": {},
     "inputWidgets": {},
     "nuid": "0b323ba1-15da-41d7-a6fa-bf57cde7b6fd",
     "showTitle": false,
     "title": ""
    }
   },
   "outputs": [],
   "source": [
    "import chromedriver_binary\n",
    "import numpy as np\n",
    "import pandas as pd\n",
    "import altair as alt\n",
    "\n",
    "# Enable Altair for notebooks (not needed for JupyterLab)\n",
    "_ = alt.renderers.enable('notebook')"
   ]
  },
  {
   "cell_type": "markdown",
   "metadata": {
    "application/vnd.databricks.v1+cell": {
     "cellMetadata": {},
     "inputWidgets": {},
     "nuid": "0872bd01-a04f-428c-a5bf-5cade0c85fb2",
     "showTitle": false,
     "title": ""
    }
   },
   "source": [
    "## ‘Deployed Versions’ Heatmap with Altair\n",
    "\n",
    "This creates a heatmap over the versions of packages different teams have deployed, normalized to 100%. That allows insights regarding the version spectrum a team has to maintain, and how much of their inventory is on the ‘newer’ side.\n",
    "\n",
    "First, we read the list of installed packages into `data`."
   ]
  },
  {
   "cell_type": "code",
   "execution_count": 0,
   "metadata": {
    "application/vnd.databricks.v1+cell": {
     "cellMetadata": {},
     "inputWidgets": {},
     "nuid": "c21a68e3-a6fd-4e36-8057-ccba88e20838",
     "showTitle": false,
     "title": ""
    }
   },
   "outputs": [],
   "source": [
    "from dfply import *\n",
    "\n",
    "raw_data = pd.read_csv(\"../data/cmdb-packages.csv\", sep=',')\n",
    "print('♯ of Records: {}\\n'.format(len(raw_data)))\n",
    "\n",
    "data = (raw_data\n",
    "    >> mutate(Version=X['Installed version'].str.split('-', 1, expand=True)[0])\n",
    "    >> drop(X.CMDB_Id, X['Last seen'], X['Last modified'], X['Installed version'])\n",
    ")\n",
    "print(data.head(6).transpose())"
   ]
  },
  {
   "cell_type": "markdown",
   "metadata": {
    "application/vnd.databricks.v1+cell": {
     "cellMetadata": {},
     "inputWidgets": {},
     "nuid": "be9c3957-bfb2-4dde-94b3-289ecc4f61bb",
     "showTitle": false,
     "title": ""
    }
   },
   "source": [
    "The `tvc` dataframe holds counts per team and version, including a normalized `Percent` column."
   ]
  },
  {
   "cell_type": "code",
   "execution_count": 0,
   "metadata": {
    "application/vnd.databricks.v1+cell": {
     "cellMetadata": {},
     "inputWidgets": {},
     "nuid": "a2ffeeca-c11f-41b6-bf71-9f2ef5916333",
     "showTitle": false,
     "title": ""
    }
   },
   "outputs": [],
   "source": [
    "tvc = data.groupby(['Team', 'Version']).count()\n",
    "tvc = tvc.index.to_frame().assign(Counts=tvc.iloc[:, 0])\n",
    "tvc = tvc.reset_index(drop=True)\n",
    "\n",
    "tvsum = tvc.groupby('Team').sum()\n",
    "tvc['Percent'] = 0\n",
    "tvc = tvc.assign(Percent=[int(.5 + 100 * row['Counts'] / tvsum.loc[row['Team'], 'Counts'])\n",
    "                          for idx, row in tvc.iterrows()])\n",
    "\n",
    "print(tvc.head(6).transpose())"
   ]
  },
  {
   "cell_type": "markdown",
   "metadata": {
    "application/vnd.databricks.v1+cell": {
     "cellMetadata": {},
     "inputWidgets": {},
     "nuid": "a9b21edb-4ec8-4af9-9470-da0797c4540c",
     "showTitle": false,
     "title": ""
    }
   },
   "source": [
    "**TODO** Explain:\n",
    "\n",
    "* version order\n",
    "* color palette\n",
    "* text and rect marks and overlay by `+`\n",
    "* `rangeStep` for width control\n",
    "* `properties()` for global chart settings"
   ]
  },
  {
   "cell_type": "code",
   "execution_count": 0,
   "metadata": {
    "application/vnd.databricks.v1+cell": {
     "cellMetadata": {},
     "inputWidgets": {},
     "nuid": "5dc0ec13-eaa8-40f6-a36c-8f77f45a349f",
     "showTitle": false,
     "title": ""
    }
   },
   "outputs": [],
   "source": [
    "versions_ordered = list(sorted(set(tvc['Version']), \n",
    "                               key=lambda x, _r=re.compile('[-.]'): tuple(map(int, _r.split(x))), \n",
    "                               reverse=True))\n",
    "\n",
    "base = alt.Chart(tvc)\n",
    "rect = base.mark_rect(size=30).encode(\n",
    "    alt.X('Version:O', sort=versions_ordered),\n",
    "    y='Team:O',\n",
    "    color=alt.Color('Percent:Q', scale=alt.Scale(\n",
    "        domain=list(range(101)),\n",
    "        range=['#' + ('%02x' % ((100 - x) * 200 // 100) * 3) for x in range(101)],\n",
    "    ))\n",
    ")\n",
    "text = base.mark_text(baseline='middle', align='center', color='#fff', size=10, fontWeight=600).encode(\n",
    "    alt.X('Version:O', scale=alt.Scale(rangeStep=25)),\n",
    "    y='Team:O',\n",
    "    text='Percent:Q'\n",
    ")\n",
    "\n",
    "chart = rect + text\n",
    "chart = chart.properties(background='#f0f0f0', \n",
    "                         title='Version Distribution by Team')\n",
    "#render_chart(chart, 'installs_by_team_heatmap', scale_factor=0 or 1350 / 520)\n",
    "chart"
   ]
  },
  {
   "cell_type": "code",
   "execution_count": 0,
   "metadata": {
    "application/vnd.databricks.v1+cell": {
     "cellMetadata": {},
     "inputWidgets": {},
     "nuid": "b4d907ed-03c0-432a-9f28-9b637cf2b1bf",
     "showTitle": false,
     "title": ""
    }
   },
   "outputs": [],
   "source": [
    "1"
   ]
  }
 ],
 "metadata": {
  "application/vnd.databricks.v1+notebook": {
   "dashboards": [],
   "language": "python",
   "notebookMetadata": {
    "pythonIndentUnit": 2
   },
   "notebookName": "heatmaps",
   "notebookOrigID": 3102685337479744,
   "widgets": {}
  },
  "kernelspec": {
   "display_name": "Python 3",
   "language": "python",
   "name": "python3"
  },
  "language_info": {
   "codemirror_mode": {
    "name": "ipython",
    "version": 3
   },
   "file_extension": ".py",
   "mimetype": "text/x-python",
   "name": "python",
   "nbconvert_exporter": "python",
   "pygments_lexer": "ipython3",
   "version": "3.6.8"
  }
 },
 "nbformat": 4,
 "nbformat_minor": 0
}
