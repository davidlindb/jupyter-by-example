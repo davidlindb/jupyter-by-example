{
 "cells": [
  {
   "cell_type": "markdown",
   "metadata": {
    "application/vnd.databricks.v1+cell": {
     "cellMetadata": {},
     "inputWidgets": {},
     "nuid": "66d27b4e-da6f-4e48-9181-d6dcdc86448a",
     "showTitle": false,
     "title": ""
    }
   },
   "source": [
    "# Pandas Timeseries\n",
    "\n",
    "Want to learn more than you find here? Then take a look at these sources:\n",
    "\n",
    " * [Basic Time Series Manipulation with Pandas](https://towardsdatascience.com/basic-time-series-manipulation-with-pandas-4432afee64ea)\n",
    " * [Dealing with Datetimes: A tutorial given at PyCon 2019](https://github.com/pganssle-talks/pycon-us-2019-dealing-with-datetimes)"
   ]
  },
  {
   "cell_type": "code",
   "execution_count": 0,
   "metadata": {
    "application/vnd.databricks.v1+cell": {
     "cellMetadata": {},
     "inputWidgets": {},
     "nuid": "890bccd9-21a6-44b3-b01a-cf5315472b4b",
     "showTitle": false,
     "title": ""
    }
   },
   "outputs": [],
   "source": [
    "import pandas as pd"
   ]
  },
  {
   "cell_type": "markdown",
   "metadata": {
    "application/vnd.databricks.v1+cell": {
     "cellMetadata": {},
     "inputWidgets": {},
     "nuid": "bdaca964-de29-4c57-9f99-9e6d3f12b3da",
     "showTitle": false,
     "title": ""
    }
   },
   "source": [
    "## Creating Timeseries\n",
    "\n",
    "[date_range](https://pandas.pydata.org/pandas-docs/stable/reference/api/pandas.date_range.html) and its [exhaustive list of frequency choices](https://pandas.pydata.org/pandas-docs/stable/user_guide/timeseries.html#timeseries-offset-aliases) make it very easy to create a list of specific dates.\n",
    "\n",
    "For example, the list of all last *business* days in a month in 2019:"
   ]
  },
  {
   "cell_type": "code",
   "execution_count": 0,
   "metadata": {
    "application/vnd.databricks.v1+cell": {
     "cellMetadata": {},
     "inputWidgets": {},
     "nuid": "61736592-6f8a-4093-8044-d48c626fc6cd",
     "showTitle": false,
     "title": ""
    },
    "scrolled": false
   },
   "outputs": [],
   "source": [
    "year = '2019'\n",
    "ts = pd.date_range(year, periods=12, freq='BM')\n",
    "ts"
   ]
  },
  {
   "cell_type": "code",
   "execution_count": 0,
   "metadata": {
    "application/vnd.databricks.v1+cell": {
     "cellMetadata": {},
     "inputWidgets": {},
     "nuid": "b270031a-6b04-4528-a89a-254a5622193e",
     "showTitle": false,
     "title": ""
    },
    "scrolled": true
   },
   "outputs": [],
   "source": [
    "df = pd.DataFrame(index=ts)\n",
    "df['DoW'] = df.index.weekday_name\n",
    "df['BM≠M'] = (df.index != pd.date_range(year, periods=12, freq='M'))\n",
    "df.iloc[:, -1] = df.iloc[:, -1].apply(lambda x: '✔' if x else '☓')\n",
    "print(df.iloc[:6, :].transpose())\n",
    "print()\n",
    "print(df.iloc[6:, :].transpose())"
   ]
  },
  {
   "cell_type": "markdown",
   "metadata": {
    "application/vnd.databricks.v1+cell": {
     "cellMetadata": {},
     "inputWidgets": {},
     "nuid": "895aeb6a-7b0b-40fa-a726-ac1f4938c5ea",
     "showTitle": false,
     "title": ""
    }
   },
   "source": [
    "Generated sequences like this can be used to filter or bin time series data, or create ‘nice’ (i.e. semantically meaningful) axis labels for a graph."
   ]
  },
  {
   "cell_type": "markdown",
   "metadata": {
    "application/vnd.databricks.v1+cell": {
     "cellMetadata": {},
     "inputWidgets": {},
     "nuid": "823918a7-c981-4aaf-8325-d308a3236df4",
     "showTitle": false,
     "title": ""
    }
   },
   "source": [
    "## Relative Date & Time Offsets\n",
    "To get a series like “first Thursday in the second week of each month”, you can add [DateOffset Objects](https://pandas.pydata.org/pandas-docs/stable/user_guide/timeseries.html#dateoffset-objects) like this:"
   ]
  },
  {
   "cell_type": "code",
   "execution_count": 0,
   "metadata": {
    "application/vnd.databricks.v1+cell": {
     "cellMetadata": {},
     "inputWidgets": {},
     "nuid": "6e48d82f-34f5-49bd-a9c8-724ebccce7b9",
     "showTitle": false,
     "title": ""
    }
   },
   "outputs": [],
   "source": [
    "pd.date_range(year, periods=12, freq='MS') + pd.DateOffset(weeks=1, weekday=3)"
   ]
  },
  {
   "cell_type": "markdown",
   "metadata": {
    "application/vnd.databricks.v1+cell": {
     "cellMetadata": {},
     "inputWidgets": {},
     "nuid": "d38ec809-f59d-4f88-be7c-ad6c31bb6e21",
     "showTitle": false,
     "title": ""
    }
   },
   "source": [
    "This works, but you'll get an ugly `PerformanceWarning` about non-vectorized application of a `DateOffset`. However, as you can see above, the resulting `DatetimeIndex` tells you the proper `freq` string to use."
   ]
  },
  {
   "cell_type": "code",
   "execution_count": 0,
   "metadata": {
    "application/vnd.databricks.v1+cell": {
     "cellMetadata": {},
     "inputWidgets": {},
     "nuid": "9077273b-68df-4868-9710-7b24d783a4a7",
     "showTitle": false,
     "title": ""
    }
   },
   "outputs": [],
   "source": [
    "pd.date_range(year, periods=12, freq='WOM-2THU')"
   ]
  }
 ],
 "metadata": {
  "application/vnd.databricks.v1+notebook": {
   "dashboards": [],
   "language": "python",
   "notebookMetadata": {},
   "notebookName": "timeseries",
   "notebookOrigID": 3102685337479884,
   "widgets": {}
  },
  "kernelspec": {
   "display_name": "Python 3",
   "language": "python",
   "name": "python3"
  },
  "language_info": {
   "codemirror_mode": {
    "name": "ipython",
    "version": 3
   },
   "file_extension": ".py",
   "mimetype": "text/x-python",
   "name": "python",
   "nbconvert_exporter": "python",
   "pygments_lexer": "ipython3",
   "version": "3.6.8"
  }
 },
 "nbformat": 4,
 "nbformat_minor": 0
}
