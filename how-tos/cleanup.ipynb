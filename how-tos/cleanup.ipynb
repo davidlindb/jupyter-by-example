{
 "cells": [
  {
   "cell_type": "markdown",
   "metadata": {
    "application/vnd.databricks.v1+cell": {
     "cellMetadata": {},
     "inputWidgets": {},
     "nuid": "341ae42c-f3a9-4557-9343-3dae9778b743",
     "showTitle": false,
     "title": ""
    }
   },
   "source": [
    "# Tips for Cleaning up Raw Data"
   ]
  },
  {
   "cell_type": "markdown",
   "metadata": {
    "application/vnd.databricks.v1+cell": {
     "cellMetadata": {},
     "inputWidgets": {},
     "nuid": "d0468627-0dfd-4791-8260-143faff7d936",
     "showTitle": false,
     "title": ""
    }
   },
   "source": [
    "## Detecting and Filling in Missing Data\n",
    "\n",
    "The [missingno](https://github.com/ResidentMario/missingno#missingno----) package provides a small toolset of flexible and easy-to-use missing data visualizations and utilities. They allow you to get a quick visual summary of the completeness (or lack thereof) of your dataset."
   ]
  },
  {
   "cell_type": "code",
   "execution_count": 0,
   "metadata": {
    "application/vnd.databricks.v1+cell": {
     "cellMetadata": {},
     "inputWidgets": {},
     "nuid": "829efef5-b5c6-4228-9fac-49831c3b926c",
     "showTitle": false,
     "title": ""
    },
    "scrolled": false
   },
   "outputs": [],
   "source": [
    "%matplotlib notebook\n",
    "\n",
    "import time\n",
    "from IPython.display import HTML, clear_output\n",
    "import numpy as np\n",
    "import pandas as pd\n",
    "import missingno as msno\n",
    "\n",
    "raw_data = pd.read_csv('../data/classic-rock-songs.csv',\n",
    "                       sep=',', dtype={'Release Year': 'Int16'})\n",
    "raw_data = raw_data.iloc[:, 1:4]\n",
    "raw_data = raw_data.rename(\n",
    "    columns=dict(zip(raw_data.columns, ['song', 'artist', 'year'])))\n",
    "plot = msno.matrix(raw_data)\n",
    "\n",
    "chart_img = 'img/missingno.png'\n",
    "plot.figure.savefig(chart_img)\n",
    "clear_output()\n",
    "print(raw_data.head(2))\n",
    "HTML('<img src=\"{}?{}\"></img>'.format(chart_img, time.time()))"
   ]
  },
  {
   "cell_type": "markdown",
   "metadata": {
    "application/vnd.databricks.v1+cell": {
     "cellMetadata": {},
     "inputWidgets": {},
     "nuid": "c0052d7f-ed90-426e-b3c3-c7846ac5b52b",
     "showTitle": false,
     "title": ""
    }
   },
   "source": [
    "As you can (literally) see, the `year` values are hit and miss.\n",
    "\n",
    "Once you got a mental image of what data is missing and how you can fill in reasonable substitute values, the primary means to do that is the `fillna(value)` method. But you can also select rows with missing values via `loc` and `isna`, and calculate a replacement value from other rows, e.g. the average of some related group."
   ]
  }
 ],
 "metadata": {
  "application/vnd.databricks.v1+notebook": {
   "dashboards": [],
   "language": "python",
   "notebookMetadata": {},
   "notebookName": "cleanup",
   "notebookOrigID": 3102685337479737,
   "widgets": {}
  },
  "kernelspec": {
   "display_name": "Python 3",
   "language": "python",
   "name": "python3"
  },
  "language_info": {
   "codemirror_mode": {
    "name": "ipython",
    "version": 3
   },
   "file_extension": ".py",
   "mimetype": "text/x-python",
   "name": "python",
   "nbconvert_exporter": "python",
   "pygments_lexer": "ipython3",
   "version": "3.6.7"
  }
 },
 "nbformat": 4,
 "nbformat_minor": 0
}
