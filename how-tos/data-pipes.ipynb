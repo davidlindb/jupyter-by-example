{
 "cells": [
  {
   "cell_type": "markdown",
   "metadata": {
    "application/vnd.databricks.v1+cell": {
     "cellMetadata": {},
     "inputWidgets": {},
     "nuid": "d92f6829-cdb8-4b9b-8dad-9071ea37f0d7",
     "showTitle": false,
     "title": ""
    }
   },
   "source": [
    "# Using R-style Data Pipelines in Notebooks\n",
    "\n",
    "<img src=\"img/pipes.jpg\" style=\"float: right; padding-left: 1em;\"></img>\n",
    "\n",
    "## Overview\n",
    "This notebook shows how mutating data frames can be written more elegantly (and thus understood more easily) by using *data pipelines*. R users know this concept from the `dplyr` package, and Python offers a similar one named `dfply`.\n",
    "\n",
    "## Setting the Stage\n",
    "We start off with some global definitions…"
   ]
  },
  {
   "cell_type": "code",
   "execution_count": 0,
   "metadata": {
    "application/vnd.databricks.v1+cell": {
     "cellMetadata": {},
     "inputWidgets": {},
     "nuid": "50fb9ab0-e1a5-47aa-8999-1b551188f2ea",
     "showTitle": false,
     "title": ""
    },
    "scrolled": true
   },
   "outputs": [],
   "source": [
    "import numpy as np\n",
    "import pandas as pd"
   ]
  },
  {
   "cell_type": "markdown",
   "metadata": {
    "application/vnd.databricks.v1+cell": {
     "cellMetadata": {},
     "inputWidgets": {},
     "nuid": "05cbcbb4-3fac-45b9-9cdd-c720d01482ac",
     "showTitle": false,
     "title": ""
    }
   },
   "source": [
    "The sample data (about OS package deployments) is read into the `raw_data` dataframe from a CSV file."
   ]
  },
  {
   "cell_type": "code",
   "execution_count": 0,
   "metadata": {
    "application/vnd.databricks.v1+cell": {
     "cellMetadata": {},
     "inputWidgets": {},
     "nuid": "c3dbd7d7-998d-4673-bf6a-d60bce459bda",
     "showTitle": false,
     "title": ""
    }
   },
   "outputs": [],
   "source": [
    "raw_data = pd.read_csv(\"../data/cmdb-packages.csv\", sep=',')\n",
    "\n",
    "print('♯ of Records: {}\\n'.format(len(raw_data)))\n",
    "\n",
    "for name in raw_data.columns[1:]:\n",
    "    if not name.startswith('Last '):\n",
    "        print(name, '=', list(sorted(set(raw_data[name].fillna('')))))\n",
    "\n",
    "raw_data.head(3).transpose()"
   ]
  },
  {
   "cell_type": "code",
   "execution_count": 0,
   "metadata": {
    "application/vnd.databricks.v1+cell": {
     "cellMetadata": {},
     "inputWidgets": {},
     "nuid": "c7bcb486-4fed-41ec-bfbb-158958eed027",
     "showTitle": false,
     "title": ""
    }
   },
   "outputs": [],
   "source": [
    "def map_distro(name):\n",
    "    \"\"\"Helper to create canonical OS names.\"\"\"\n",
    "    return (name.split('.', 1)[0]\n",
    "        .replace('Debian 7', 'wheezy')\n",
    "        .replace('Debian 8', 'jessie')\n",
    "        .replace('Debian 9', 'stretch')\n",
    "        .replace('Debian 10', 'buster')\n",
    "        .replace('squeeze', 'Squeeze [6]')\n",
    "        .replace('wheezy', 'Wheezy [7]')\n",
    "        .replace('jessie', 'Jessie [8]')\n",
    "        .replace('stretch', 'Stretch [9]')\n",
    "        .replace('buster', 'Buster [10]')\n",
    "    )"
   ]
  },
  {
   "cell_type": "markdown",
   "metadata": {
    "application/vnd.databricks.v1+cell": {
     "cellMetadata": {},
     "inputWidgets": {},
     "nuid": "45bd0edc-4f74-43bf-b32f-7df3049b0e9a",
     "showTitle": false,
     "title": ""
    }
   },
   "source": [
    "## Data Cleaning With Pandas\n",
    "\n",
    "This code cleans up the imported data using the *Pandas* API.\n",
    "\n",
    "To get sensible version statistics, we split off the auxiliary information in the version column (anything after `-`), leaving just the *upstream* part of the version string. The environment classifier is also cleaned up a little, and distributions are mapped to a canonical set of names. Some unused columns are dropped.\n",
    "\n",
    "Finally, a subset of unique version samples is selected."
   ]
  },
  {
   "cell_type": "code",
   "execution_count": 0,
   "metadata": {
    "application/vnd.databricks.v1+cell": {
     "cellMetadata": {},
     "inputWidgets": {},
     "nuid": "86769623-e1a8-4d8a-80ea-f9ddd5a7d9dd",
     "showTitle": false,
     "title": ""
    }
   },
   "outputs": [],
   "source": [
    "data = raw_data\n",
    "data = data.assign(Version=data['Installed version'].str.split('-', 1, expand=True)[0])\n",
    "data = data.assign(Environment=data.Environment.fillna('UNDEFINED').str.upper())\n",
    "data = data.assign(Distribution=data.Distribution.apply(map_distro))\n",
    "data = data.drop(columns=['CMDB_Id', 'Last seen', 'Last modified', 'Installed version'])\n",
    "data = data.drop_duplicates(subset='Version', keep='first')\n",
    "\n",
    "data.transpose()"
   ]
  },
  {
   "cell_type": "markdown",
   "metadata": {
    "application/vnd.databricks.v1+cell": {
     "cellMetadata": {},
     "inputWidgets": {},
     "nuid": "0f237162-f156-449a-9976-83b001793645",
     "showTitle": false,
     "title": ""
    }
   },
   "source": [
    "## Data Cleaning With Pipelines\n",
    "\n",
    "This does the exact same processing as the code above, but is arguably more readable and maintained more easily:\n",
    "\n",
    "* It has less boilerplate, and makes the use of pipelined processing transparent.\n",
    "* Each step clearly states what it does to the data.\n",
    "* When steps are copied into other pipelines, the `X` placeholder ensures you use the data of *this* pipeline (the code is more DRY).."
   ]
  },
  {
   "cell_type": "code",
   "execution_count": 0,
   "metadata": {
    "application/vnd.databricks.v1+cell": {
     "cellMetadata": {},
     "inputWidgets": {},
     "nuid": "d1b3d4af-cc54-4b81-a0ba-71ecaacff936",
     "showTitle": false,
     "title": ""
    }
   },
   "outputs": [],
   "source": [
    "from dfply import *\n",
    "\n",
    "piped = (raw_data\n",
    "    >> mutate(Version=X['Installed version'].str.split('-', 1, expand=True)[0])\n",
    "    >> mutate(Environment=X.Environment.fillna('UNDEFINED').str.upper())\n",
    "    >> mutate(Distribution=X.Distribution.apply(map_distro))\n",
    "    >> drop(X.CMDB_Id, X['Last seen'], X['Last modified'], X['Installed version'])\n",
    "    >> distinct(X.Version)\n",
    ")\n",
    "\n",
    "piped.transpose()"
   ]
  },
  {
   "cell_type": "markdown",
   "metadata": {
    "application/vnd.databricks.v1+cell": {
     "cellMetadata": {},
     "inputWidgets": {},
     "nuid": "acf2c669-7090-4edc-b0cd-8834367addd2",
     "showTitle": false,
     "title": ""
    }
   },
   "source": [
    "Read the [dplyr-style Data Manipulation with Pipes in Python](https://towardsdatascience.com/dplyr-style-data-manipulation-with-pipes-in-python-380dcb137000) blog post for more examples."
   ]
  },
  {
   "cell_type": "markdown",
   "metadata": {
    "application/vnd.databricks.v1+cell": {
     "cellMetadata": {},
     "inputWidgets": {},
     "nuid": "0248d2a6-53ff-4c3d-904f-d3602b9605d6",
     "showTitle": false,
     "title": ""
    }
   },
   "source": [
    "## References\n",
    "\n",
    "### dfply\n",
    "* [dplyr-style Data Manipulation with Pipes in Python – Towards Data Science](https://towardsdatascience.com/dplyr-style-data-manipulation-with-pipes-in-python-380dcb137000)\n",
    "* [kieferk/dfply: dplyr-style piping operations for Pandas dataframes](https://github.com/kieferk/dfply)\n",
    "\n",
    "### Alternatives\n",
    "* [has2k1/plydata: A grammar for data manipulation in Python](https://github.com/has2k1/plydata)\n",
    "* [shaypal5/pdpipe: Easy pipelines for Pandas dataframes](https://github.com/shaypal5/pdpipe)"
   ]
  }
 ],
 "metadata": {
  "application/vnd.databricks.v1+notebook": {
   "dashboards": [],
   "language": "python",
   "notebookMetadata": {},
   "notebookName": "data-pipes",
   "notebookOrigID": 3102685337479746,
   "widgets": {}
  },
  "kernelspec": {
   "display_name": "Python 3",
   "language": "python",
   "name": "python3"
  },
  "language_info": {
   "codemirror_mode": {
    "name": "ipython",
    "version": 3
   },
   "file_extension": ".py",
   "mimetype": "text/x-python",
   "name": "python",
   "nbconvert_exporter": "python",
   "pygments_lexer": "ipython3",
   "version": "3.6.8"
  }
 },
 "nbformat": 4,
 "nbformat_minor": 0
}
