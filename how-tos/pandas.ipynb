{
 "cells": [
  {
   "cell_type": "markdown",
   "metadata": {
    "application/vnd.databricks.v1+cell": {
     "cellMetadata": {},
     "inputWidgets": {},
     "nuid": "2fbd9b5a-229f-48b5-b10d-99093ea17245",
     "showTitle": false,
     "title": ""
    }
   },
   "source": [
    "# Pandas Tips & Tricks\n",
    "\n",
    "This notebook presents various tricks to manipulate your data, which are typically non-obvious to a novice in Pandas and data science."
   ]
  },
  {
   "cell_type": "code",
   "execution_count": 0,
   "metadata": {
    "application/vnd.databricks.v1+cell": {
     "cellMetadata": {},
     "inputWidgets": {},
     "nuid": "970b192f-1efd-4e41-8165-bf8367a752e5",
     "showTitle": false,
     "title": ""
    }
   },
   "outputs": [],
   "source": [
    "%matplotlib notebook\n",
    "\n",
    "import time\n",
    "from IPython.display import HTML, clear_output\n",
    "import numpy as np\n",
    "import pandas as pd\n",
    "import matplotlib.pyplot as plt"
   ]
  },
  {
   "cell_type": "markdown",
   "metadata": {
    "application/vnd.databricks.v1+cell": {
     "cellMetadata": {},
     "inputWidgets": {},
     "nuid": "c8e3aee5-7e6c-4dfa-a577-f5bddf164c32",
     "showTitle": false,
     "title": ""
    }
   },
   "source": [
    "## Reading Data"
   ]
  },
  {
   "cell_type": "markdown",
   "metadata": {
    "application/vnd.databricks.v1+cell": {
     "cellMetadata": {},
     "inputWidgets": {},
     "nuid": "d0ee394e-0d1e-4625-afa6-2f4661e88626",
     "showTitle": false,
     "title": ""
    }
   },
   "source": [
    "### Combining Multiple CSV Files\n",
    "\n",
    "This shows how to create a single dataframe from multiple files that share the same structure (columns)."
   ]
  },
  {
   "cell_type": "code",
   "execution_count": 0,
   "metadata": {
    "application/vnd.databricks.v1+cell": {
     "cellMetadata": {},
     "inputWidgets": {},
     "nuid": "7eea6bd4-5b61-48af-803e-f314d659c270",
     "showTitle": false,
     "title": ""
    }
   },
   "outputs": [],
   "source": [
    "import glob\n",
    "\n",
    "files = '../data/commits*.tsv'\n",
    "df = pd.concat([pd.read_csv(x, sep='\\t', parse_dates=['Date']) for x in glob.glob(files)], \n",
    "               ignore_index=True)\n",
    "\n",
    "!wc -l {files}\n",
    "print('♯', len(df))"
   ]
  },
  {
   "cell_type": "code",
   "execution_count": 0,
   "metadata": {
    "application/vnd.databricks.v1+cell": {
     "cellMetadata": {},
     "inputWidgets": {},
     "nuid": "b94834fc-4a43-4975-8afd-ce576eacb7c9",
     "showTitle": false,
     "title": ""
    }
   },
   "outputs": [],
   "source": [
    "len(df.Author.unique()), len(pd.unique(df.Author))"
   ]
  },
  {
   "cell_type": "markdown",
   "metadata": {
    "application/vnd.databricks.v1+cell": {
     "cellMetadata": {},
     "inputWidgets": {},
     "nuid": "be6e5316-2a8d-4bd1-83d4-2e2fc4466c7b",
     "showTitle": false,
     "title": ""
    }
   },
   "source": [
    "## Inspecting Dataframes\n",
    "\n",
    "Looking at the contents and metadata of your dataframes is quite important, to better understand the data they represent and then successfully transform it into the results you need."
   ]
  },
  {
   "cell_type": "code",
   "execution_count": 0,
   "metadata": {
    "application/vnd.databricks.v1+cell": {
     "cellMetadata": {},
     "inputWidgets": {},
     "nuid": "e79768f3-341e-4914-806f-33892686df5c",
     "showTitle": false,
     "title": ""
    }
   },
   "outputs": [],
   "source": [
    "# Data dimensions (rows, cols)\n",
    "df.shape"
   ]
  },
  {
   "cell_type": "code",
   "execution_count": 0,
   "metadata": {
    "application/vnd.databricks.v1+cell": {
     "cellMetadata": {},
     "inputWidgets": {},
     "nuid": "71f7f0cf-9286-4426-bf2d-a21a0496fea5",
     "showTitle": false,
     "title": ""
    }
   },
   "outputs": [],
   "source": [
    "# Data types\n",
    "df.dtypes"
   ]
  },
  {
   "cell_type": "markdown",
   "metadata": {
    "application/vnd.databricks.v1+cell": {
     "cellMetadata": {},
     "inputWidgets": {},
     "nuid": "7f1cd24f-276f-4e23-95f8-649ae1843fcf",
     "showTitle": false,
     "title": ""
    }
   },
   "source": [
    "If you look at a sample, it is often useful to transpose the data, especially when you have many columns."
   ]
  },
  {
   "cell_type": "code",
   "execution_count": 0,
   "metadata": {
    "application/vnd.databricks.v1+cell": {
     "cellMetadata": {},
     "inputWidgets": {},
     "nuid": "fc0d127f-a50f-4a6b-bed5-82df61fc706a",
     "showTitle": false,
     "title": ""
    },
    "scrolled": true
   },
   "outputs": [],
   "source": [
    "print(df.head(2).transpose())"
   ]
  },
  {
   "cell_type": "markdown",
   "metadata": {
    "application/vnd.databricks.v1+cell": {
     "cellMetadata": {},
     "inputWidgets": {},
     "nuid": "24e08ab3-f705-44ad-bcc9-e90fbe8ce0fc",
     "showTitle": false,
     "title": ""
    }
   },
   "source": [
    "And then there is `describe` with some core statistics about the dataframe…"
   ]
  },
  {
   "cell_type": "code",
   "execution_count": 0,
   "metadata": {
    "application/vnd.databricks.v1+cell": {
     "cellMetadata": {},
     "inputWidgets": {},
     "nuid": "c73b60cd-2488-4406-b72f-45afc2f9e36d",
     "showTitle": false,
     "title": ""
    }
   },
   "outputs": [],
   "source": [
    "print(df.describe().transpose())"
   ]
  },
  {
   "cell_type": "markdown",
   "metadata": {
    "application/vnd.databricks.v1+cell": {
     "cellMetadata": {},
     "inputWidgets": {},
     "nuid": "ec57e41a-76fa-44ab-9b9a-d55588849330",
     "showTitle": false,
     "title": ""
    }
   },
   "source": [
    "… and `info` with more technical information."
   ]
  },
  {
   "cell_type": "code",
   "execution_count": 0,
   "metadata": {
    "application/vnd.databricks.v1+cell": {
     "cellMetadata": {},
     "inputWidgets": {},
     "nuid": "f043a524-b5e1-4d63-85ec-e800e3ad55df",
     "showTitle": false,
     "title": ""
    }
   },
   "outputs": [],
   "source": [
    "df.info()"
   ]
  },
  {
   "cell_type": "markdown",
   "metadata": {
    "application/vnd.databricks.v1+cell": {
     "cellMetadata": {},
     "inputWidgets": {},
     "nuid": "6b9e88bd-ab82-440b-bae7-356994379311",
     "showTitle": false,
     "title": ""
    }
   },
   "source": [
    "## Writing Results\n",
    "### Writing Spreadsheet Files\n",
    "*TODO*"
   ]
  },
  {
   "cell_type": "markdown",
   "metadata": {
    "application/vnd.databricks.v1+cell": {
     "cellMetadata": {},
     "inputWidgets": {},
     "nuid": "47cd077f-035a-4876-8962-cf08de2df38d",
     "showTitle": false,
     "title": ""
    }
   },
   "source": [
    "## Filtering Rows\n",
    "\n",
    "You can use [loc](https://pandas.pydata.org/pandas-docs/stable/reference/api/pandas.DataFrame.loc.html) in combination with a `bool` array to select a subset of rows. That array is conveniently created by applying conditions to columns.\n",
    "\n",
    "The first example uses regex matching…"
   ]
  },
  {
   "cell_type": "code",
   "execution_count": 0,
   "metadata": {
    "application/vnd.databricks.v1+cell": {
     "cellMetadata": {},
     "inputWidgets": {},
     "nuid": "45213c6d-fc8f-4b99-a558-c7f1ebb33a97",
     "showTitle": false,
     "title": ""
    }
   },
   "outputs": [],
   "source": [
    "print(df.loc[df.Message.str.match('altair', case=False)]\n",
    "             .reindex(['Date', 'Message'], axis=1))"
   ]
  },
  {
   "cell_type": "markdown",
   "metadata": {
    "application/vnd.databricks.v1+cell": {
     "cellMetadata": {},
     "inputWidgets": {},
     "nuid": "a9707357-c0ca-4db7-8ace-078373c57f15",
     "showTitle": false,
     "title": ""
    }
   },
   "source": [
    "Another option is using simple comparison operators, e.g. `!=` like here…"
   ]
  },
  {
   "cell_type": "code",
   "execution_count": 0,
   "metadata": {
    "application/vnd.databricks.v1+cell": {
     "cellMetadata": {},
     "inputWidgets": {},
     "nuid": "80e739c9-3670-48ad-8869-d6eaa85625d9",
     "showTitle": false,
     "title": ""
    },
    "scrolled": true
   },
   "outputs": [],
   "source": [
    "print(df.loc[df.Author != 'jhermann']\n",
    "             .reindex(['Date', 'Message'], axis=1))"
   ]
  },
  {
   "cell_type": "markdown",
   "metadata": {
    "application/vnd.databricks.v1+cell": {
     "cellMetadata": {},
     "inputWidgets": {},
     "nuid": "ed2aee42-d035-47f4-9c7b-4ea9e320bbdb",
     "showTitle": false,
     "title": ""
    }
   },
   "source": [
    "Note that the condition creates a `bool` array, that then is taken by `loc[…]` to select the matching rows."
   ]
  },
  {
   "cell_type": "code",
   "execution_count": 0,
   "metadata": {
    "application/vnd.databricks.v1+cell": {
     "cellMetadata": {},
     "inputWidgets": {},
     "nuid": "d65a354e-fec8-46a0-ad60-aa06b7877224",
     "showTitle": false,
     "title": ""
    }
   },
   "outputs": [],
   "source": [
    "list(df.Author.iloc[-5:] != 'jhermann')"
   ]
  },
  {
   "cell_type": "markdown",
   "metadata": {
    "application/vnd.databricks.v1+cell": {
     "cellMetadata": {},
     "inputWidgets": {},
     "nuid": "bf33b7ac-7064-43bc-9775-027c4db7918c",
     "showTitle": false,
     "title": ""
    }
   },
   "source": [
    "## Manipulating Columns"
   ]
  },
  {
   "cell_type": "markdown",
   "metadata": {
    "application/vnd.databricks.v1+cell": {
     "cellMetadata": {},
     "inputWidgets": {},
     "nuid": "bf43fa42-4e47-4848-ac8b-4b42eaef9a2b",
     "showTitle": false,
     "title": ""
    }
   },
   "source": [
    "### Adding or Replacing Columns\n",
    "Changing the values of a column or adding a whole new one can be done by actual assignment or by calling `assign`."
   ]
  },
  {
   "cell_type": "code",
   "execution_count": 0,
   "metadata": {
    "application/vnd.databricks.v1+cell": {
     "cellMetadata": {},
     "inputWidgets": {},
     "nuid": "3a6bb20f-b788-479d-9ccc-1cabb96799fb",
     "showTitle": false,
     "title": ""
    }
   },
   "outputs": [],
   "source": [
    "morecols = df.assign(Words=df.Message.str.split().apply(len))\n",
    "print('Column ♯:', len(df.columns), 'vs.', len(morecols.columns))\n",
    "print(morecols.head(2).iloc[:, -3:])"
   ]
  },
  {
   "cell_type": "markdown",
   "metadata": {
    "application/vnd.databricks.v1+cell": {
     "cellMetadata": {},
     "inputWidgets": {},
     "nuid": "0aff8517-eebb-404d-8649-1672d834210f",
     "showTitle": false,
     "title": ""
    }
   },
   "source": [
    "Using assigment is inplace and changes the dataframe."
   ]
  },
  {
   "cell_type": "code",
   "execution_count": 0,
   "metadata": {
    "application/vnd.databricks.v1+cell": {
     "cellMetadata": {},
     "inputWidgets": {},
     "nuid": "87bfacc7-3f9f-4c1c-b67a-4c44dee3be46",
     "showTitle": false,
     "title": ""
    }
   },
   "outputs": [],
   "source": [
    "morecols['Zero'] = 0\n",
    "print(morecols.head(2).iloc[:, -4:])"
   ]
  },
  {
   "cell_type": "markdown",
   "metadata": {
    "application/vnd.databricks.v1+cell": {
     "cellMetadata": {},
     "inputWidgets": {},
     "nuid": "89189753-d6d0-4aab-b13a-049bad36789d",
     "showTitle": false,
     "title": ""
    }
   },
   "source": [
    "### Renaming Columns\n",
    "This one's easy, just call [rename](https://pandas.pydata.org/pandas-docs/stable/reference/api/pandas.DataFrame.rename.html). Columns can be specified in various formats, like a mapping from old to new. Renaming can also be done inplace, the default is to copy."
   ]
  },
  {
   "cell_type": "code",
   "execution_count": 0,
   "metadata": {
    "application/vnd.databricks.v1+cell": {
     "cellMetadata": {},
     "inputWidgets": {},
     "nuid": "4b63a89d-1829-4830-a775-270f49fe3c10",
     "showTitle": false,
     "title": ""
    }
   },
   "outputs": [],
   "source": [
    "print(morecols.rename(columns=dict(Message='Text')).head(1).iloc[:, -4:])"
   ]
  },
  {
   "cell_type": "markdown",
   "metadata": {
    "application/vnd.databricks.v1+cell": {
     "cellMetadata": {},
     "inputWidgets": {},
     "nuid": "509423fc-14dd-4a96-9883-7141b4186600",
     "showTitle": false,
     "title": ""
    }
   },
   "source": [
    "To rename all columns, just `zip` the existing names with the new ones."
   ]
  },
  {
   "cell_type": "code",
   "execution_count": 0,
   "metadata": {
    "application/vnd.databricks.v1+cell": {
     "cellMetadata": {},
     "inputWidgets": {},
     "nuid": "461b2e58-3a82-4046-8512-d54768fe0d93",
     "showTitle": false,
     "title": ""
    }
   },
   "outputs": [],
   "source": [
    "numcols = morecols.rename(\n",
    "    columns=dict(zip(morecols.columns, \n",
    "                     range(len(morecols.columns)))))\n",
    "print(numcols.head(1).transpose())"
   ]
  },
  {
   "cell_type": "markdown",
   "metadata": {
    "application/vnd.databricks.v1+cell": {
     "cellMetadata": {},
     "inputWidgets": {},
     "nuid": "3718109a-3a53-4bd7-ae08-52e900f97a27",
     "showTitle": false,
     "title": ""
    }
   },
   "source": [
    "To rename according to some logic, like a regex substitution or similar, provide a mapper function."
   ]
  },
  {
   "cell_type": "code",
   "execution_count": 0,
   "metadata": {
    "application/vnd.databricks.v1+cell": {
     "cellMetadata": {},
     "inputWidgets": {},
     "nuid": "09c9e79c-e257-4ef2-a297-558459beb344",
     "showTitle": false,
     "title": ""
    }
   },
   "outputs": [],
   "source": [
    "print(morecols.rename(mapper=str.upper, axis=1).head(1).transpose())"
   ]
  },
  {
   "cell_type": "markdown",
   "metadata": {
    "application/vnd.databricks.v1+cell": {
     "cellMetadata": {},
     "inputWidgets": {},
     "nuid": "75e917f3-7f99-4d30-a38f-ea372a897dbf",
     "showTitle": false,
     "title": ""
    }
   },
   "source": [
    "### Deleting Columns\n",
    "*TODO*"
   ]
  },
  {
   "cell_type": "markdown",
   "metadata": {
    "application/vnd.databricks.v1+cell": {
     "cellMetadata": {},
     "inputWidgets": {},
     "nuid": "f012d480-5806-4a8f-890f-1a73f1f9dbef",
     "showTitle": false,
     "title": ""
    }
   },
   "source": [
    "### Selecting Columns"
   ]
  },
  {
   "cell_type": "code",
   "execution_count": 0,
   "metadata": {
    "application/vnd.databricks.v1+cell": {
     "cellMetadata": {},
     "inputWidgets": {},
     "nuid": "a220779c-573e-45f9-9e18-9dde812f861d",
     "showTitle": false,
     "title": ""
    }
   },
   "outputs": [],
   "source": [
    "print(df[['Date', 'Message']].head(1))"
   ]
  },
  {
   "cell_type": "markdown",
   "metadata": {
    "application/vnd.databricks.v1+cell": {
     "cellMetadata": {},
     "inputWidgets": {},
     "nuid": "6ea86815-e0fd-4660-bab0-477a395ebc2c",
     "showTitle": false,
     "title": ""
    }
   },
   "source": [
    "## String Manipulation\n",
    "\n",
    "The new `Day` column is just the first word out of the `Date` column. By splitting with `expand=True` two columns are created (instead of one column with tuples), so we can select the first column only and add this to the dataframe."
   ]
  },
  {
   "cell_type": "code",
   "execution_count": 0,
   "metadata": {
    "application/vnd.databricks.v1+cell": {
     "cellMetadata": {},
     "inputWidgets": {},
     "nuid": "8b8e43cb-7fa8-4a18-ac6b-64bb56e8728f",
     "showTitle": false,
     "title": ""
    }
   },
   "outputs": [],
   "source": [
    "df = df.assign(Day=df.Date.astype(str).str.split(n=1, expand=True)[0])\n",
    "print(df.head(1).iloc[:, -3:])"
   ]
  },
  {
   "cell_type": "markdown",
   "metadata": {
    "application/vnd.databricks.v1+cell": {
     "cellMetadata": {},
     "inputWidgets": {},
     "nuid": "46048c11-5d8c-4b95-809c-fdd1e3568e9f",
     "showTitle": false,
     "title": ""
    }
   },
   "source": [
    "Since `Date` is a `datetime64` column, we can also use the [DatetimeProperties](http://pandas.pydata.org/pandas-docs/version/0.15.0/api.html#datetimelike-properties) accessor for day extraction."
   ]
  },
  {
   "cell_type": "code",
   "execution_count": 0,
   "metadata": {
    "application/vnd.databricks.v1+cell": {
     "cellMetadata": {},
     "inputWidgets": {},
     "nuid": "20e0e6d3-f8de-4936-b1dd-cad348d902c2",
     "showTitle": false,
     "title": ""
    }
   },
   "outputs": [],
   "source": [
    "df = df.assign(Day=df.Date.dt.date)\n",
    "print(df.head(1).iloc[:, -3:])"
   ]
  },
  {
   "cell_type": "markdown",
   "metadata": {
    "application/vnd.databricks.v1+cell": {
     "cellMetadata": {},
     "inputWidgets": {},
     "nuid": "d8362ba3-67f8-443d-abe6-8d287f50ad33",
     "showTitle": false,
     "title": ""
    }
   },
   "source": [
    "## Counting\n",
    "\n",
    "To visualize data in bar or other magnitude charts, you have to count subsets of your raw data."
   ]
  },
  {
   "cell_type": "code",
   "execution_count": 0,
   "metadata": {
    "application/vnd.databricks.v1+cell": {
     "cellMetadata": {},
     "inputWidgets": {},
     "nuid": "3d56a3f0-d132-4296-9f2f-2dfe93a77aa4",
     "showTitle": false,
     "title": ""
    }
   },
   "outputs": [],
   "source": [
    "commits_per_day = df.Day.value_counts().to_frame().sort_index()\n",
    "_ = commits_per_day.plot.barh(legend=False, figsize=(5, 2))\n",
    "\n",
    "chart_img = 'img/pandas-barh.png'\n",
    "plt.savefig(chart_img)\n",
    "clear_output()\n",
    "HTML('<img src=\\\"{}?{}\\\"></img>'.format(chart_img, time.time()))"
   ]
  },
  {
   "cell_type": "markdown",
   "metadata": {
    "application/vnd.databricks.v1+cell": {
     "cellMetadata": {},
     "inputWidgets": {},
     "nuid": "5b547af2-ee5d-4d0c-89c5-c7a7c4a8697c",
     "showTitle": false,
     "title": ""
    }
   },
   "source": [
    "## Aggregation\n",
    "\n",
    "Grouping values by one or more columns and then applying an operation to fold those values into a single scalar."
   ]
  },
  {
   "cell_type": "code",
   "execution_count": 0,
   "metadata": {
    "application/vnd.databricks.v1+cell": {
     "cellMetadata": {},
     "inputWidgets": {},
     "nuid": "477f22a6-dd2a-449e-ba27-3a8cb8b3f3bb",
     "showTitle": false,
     "title": ""
    }
   },
   "outputs": [],
   "source": [
    "letters = list(\"Pandas\")\n",
    "codes = pd.DataFrame(dict(Letter=letters, Code=list(map(ord, letters))))\n",
    "codes = codes.groupby('Letter').aggregate(np.sum)\n",
    "print(codes.transpose())"
   ]
  },
  {
   "cell_type": "markdown",
   "metadata": {
    "application/vnd.databricks.v1+cell": {
     "cellMetadata": {},
     "inputWidgets": {},
     "nuid": "3d395ff5-14ec-48fb-88bf-da6d04bb399d",
     "showTitle": false,
     "title": ""
    }
   },
   "source": [
    "Using `reset_index` moves the grouping column(s) from the index to ordinary columns."
   ]
  },
  {
   "cell_type": "code",
   "execution_count": 0,
   "metadata": {
    "application/vnd.databricks.v1+cell": {
     "cellMetadata": {},
     "inputWidgets": {},
     "nuid": "a108b0e9-de17-4c20-b7fe-efb927f69c95",
     "showTitle": false,
     "title": ""
    }
   },
   "outputs": [],
   "source": [
    "codes = codes.reset_index()\n",
    "print(codes.transpose())"
   ]
  }
 ],
 "metadata": {
  "application/vnd.databricks.v1+notebook": {
   "dashboards": [],
   "language": "python",
   "notebookMetadata": {},
   "notebookName": "pandas",
   "notebookOrigID": 3102685337479741,
   "widgets": {}
  },
  "kernelspec": {
   "display_name": "Python 3",
   "language": "python",
   "name": "python3"
  },
  "language_info": {
   "codemirror_mode": {
    "name": "ipython",
    "version": 3
   },
   "file_extension": ".py",
   "mimetype": "text/x-python",
   "name": "python",
   "nbconvert_exporter": "python",
   "pygments_lexer": "ipython3",
   "version": "3.6.7"
  }
 },
 "nbformat": 4,
 "nbformat_minor": 0
}
