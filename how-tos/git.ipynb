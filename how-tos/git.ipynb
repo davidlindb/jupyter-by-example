{
 "cells": [
  {
   "cell_type": "markdown",
   "metadata": {
    "application/vnd.databricks.v1+cell": {
     "cellMetadata": {},
     "inputWidgets": {},
     "nuid": "713b1dd6-7444-476c-a05a-c2fa5381df36",
     "showTitle": false,
     "title": ""
    }
   },
   "source": [
    "# Using git with Jupyter Notebooks\n",
    "\n",
    "When storing notebooks in git, it is preferable to *not* also commit the output cells, because otherwise diffs become unwieldy. Even with the preview features in many git web UIs, there are better ways for publishing full notebooks, see the `publish` directory in this repository for details."
   ]
  },
  {
   "cell_type": "markdown",
   "metadata": {
    "application/vnd.databricks.v1+cell": {
     "cellMetadata": {},
     "inputWidgets": {},
     "nuid": "f9736536-abcd-405a-b476-8a152e516ffa",
     "showTitle": false,
     "title": ""
    }
   },
   "source": [
    "## Committing Clean Notebooks Manually\n",
    "\n",
    "The easiest way to get a clean notebook that nicely fits into git is to call the `Cell » All Output » Clear` menu item, then save and finally commit the notebook. Restore the output cells using `Cell » Run All`.\n",
    "\n",
    "If you want to be sure that there are no hidden state problems (order of cell execution, disappeared variable definitions, …), then use `Kernel » Restart & Clear Output` followed by `Cell » Run All`. Finally before the commit, call `Cell » All Output » Clear`."
   ]
  },
  {
   "cell_type": "markdown",
   "metadata": {
    "application/vnd.databricks.v1+cell": {
     "cellMetadata": {},
     "inputWidgets": {},
     "nuid": "c825f2fd-8e7d-4242-bf1f-db21c43e4a04",
     "showTitle": false,
     "title": ""
    }
   },
   "source": [
    "## Pushing Text-Only Notebooks\n",
    "\n",
    "If you want to use the preview of GitHub and similar web interfaces\n",
    "*including* results, the prime goal is to avoid the lengthy blobs of\n",
    "HTML text in output cells, that represent dataframe tables or images. \n",
    "\n",
    "For textual output, simply `print(…)` the objects instead of \n",
    "having them as the last expression in a cell.\n",
    "\n",
    "For images, this can be done by storing created charts as PNG files and \n",
    "then putting HTML code into the output that references them."
   ]
  },
  {
   "cell_type": "code",
   "execution_count": 0,
   "metadata": {
    "application/vnd.databricks.v1+cell": {
     "cellMetadata": {},
     "inputWidgets": {},
     "nuid": "26afa39e-e518-461f-a8d8-2ecf9d9d9566",
     "showTitle": false,
     "title": ""
    },
    "scrolled": false
   },
   "outputs": [],
   "source": [
    "%matplotlib notebook\n",
    "\n",
    "import time\n",
    "from IPython.display import HTML, clear_output\n",
    "import seaborn as sns\n",
    "\n",
    "df = sns.load_dataset(\"anscombe\")\n",
    "plot = sns.lmplot(x=\"x\", y=\"y\", col=\"dataset\", hue=\"dataset\", data=df,\n",
    "                  col_wrap=2, ci=None, palette=\"muted\", height=2,\n",
    "                  scatter_kws={\"s\": 50, \"alpha\": 1})\n",
    "\n",
    "chart_img = 'img/seaborn-lmplot.png'\n",
    "plot.savefig(chart_img)\n",
    "clear_output()\n",
    "print(df.drop_duplicates(subset='dataset'))\n",
    "HTML('<img src=\"{}?{}\"></img>'.format(chart_img, time.time()))"
   ]
  },
  {
   "cell_type": "markdown",
   "metadata": {
    "application/vnd.databricks.v1+cell": {
     "cellMetadata": {},
     "inputWidgets": {},
     "nuid": "bd9562ac-b05d-45e9-a9bf-87d0ce279ea6",
     "showTitle": false,
     "title": ""
    }
   },
   "source": [
    "## git Hook Configuration\n",
    "\n",
    "**TODO**"
   ]
  }
 ],
 "metadata": {
  "application/vnd.databricks.v1+notebook": {
   "dashboards": [],
   "language": "python",
   "notebookMetadata": {},
   "notebookName": "git",
   "notebookOrigID": 3102685337479801,
   "widgets": {}
  },
  "kernelspec": {
   "display_name": "Python 3",
   "language": "python",
   "name": "python3"
  },
  "language_info": {
   "codemirror_mode": {
    "name": "ipython",
    "version": 3
   },
   "file_extension": ".py",
   "mimetype": "text/x-python",
   "name": "python",
   "nbconvert_exporter": "python",
   "pygments_lexer": "ipython3",
   "version": "3.6.8"
  }
 },
 "nbformat": 4,
 "nbformat_minor": 0
}
