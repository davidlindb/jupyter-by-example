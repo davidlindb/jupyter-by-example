{
 "cells": [
  {
   "cell_type": "markdown",
   "metadata": {
    "application/vnd.databricks.v1+cell": {
     "cellMetadata": {},
     "inputWidgets": {},
     "nuid": "6154793a-40ee-4bb8-b394-3015c93b0e5a",
     "showTitle": false,
     "title": ""
    }
   },
   "source": [
    "# Image Processing in Python\n",
    "\n",
    "[scikit-image](https://scikit-image.org/) is a collection of algorithms for image processing, offering high-quality, peer-reviewed code, written by an active community of volunteers."
   ]
  },
  {
   "cell_type": "code",
   "execution_count": 0,
   "metadata": {
    "application/vnd.databricks.v1+cell": {
     "cellMetadata": {},
     "inputWidgets": {},
     "nuid": "a7065fbc-1f26-48cb-a811-b260c5cd0320",
     "showTitle": false,
     "title": ""
    }
   },
   "outputs": [],
   "source": [
    "%matplotlib inline\n",
    "\n",
    "import time\n",
    "import warnings\n",
    "import numpy as np\n",
    "import matplotlib.pyplot as plt\n",
    "from IPython.display import HTML\n",
    "from skimage import data, io, filters\n",
    "from skimage.util import montage\n",
    "\n",
    "char_width = 80\n",
    "plt.rcParams[\"figure.figsize\"] = (10, 5)\n",
    "plt.rcParams[\"font.size\"] = max(5,\n",
    "    plt.rcParams[\"figure.figsize\"][0] \n",
    "    * plt.rcParams[\"figure.dpi\"] \n",
    "    // char_width)\n",
    "\n",
    "warnings.filterwarnings('ignore', message='.*Possible precision loss.*')\n",
    "image = data.coins()\n",
    "edges = filters.sobel(image)\n",
    "grid = montage(np.array([image, edges]), \n",
    "               multichannel=False,\n",
    "               rescale_intensity=True,\n",
    "               grid_shape=(1, 2),\n",
    ")\n",
    "\n",
    "imgfile = 'img/coins-sobel.png'\n",
    "io.imsave(imgfile, grid)\n",
    "HTML('<img src=\\\"{}?{}\\\"></img>'.format(imgfile, time.time()))"
   ]
  }
 ],
 "metadata": {
  "application/vnd.databricks.v1+notebook": {
   "dashboards": [],
   "language": "python",
   "notebookMetadata": {},
   "notebookName": "skimage",
   "notebookOrigID": 3102685337479787,
   "widgets": {}
  },
  "kernelspec": {
   "display_name": "Python 3",
   "language": "python",
   "name": "python3"
  },
  "language_info": {
   "codemirror_mode": {
    "name": "ipython",
    "version": 3
   },
   "file_extension": ".py",
   "mimetype": "text/x-python",
   "name": "python",
   "nbconvert_exporter": "python",
   "pygments_lexer": "ipython3",
   "version": "3.6.7"
  }
 },
 "nbformat": 4,
 "nbformat_minor": 0
}
